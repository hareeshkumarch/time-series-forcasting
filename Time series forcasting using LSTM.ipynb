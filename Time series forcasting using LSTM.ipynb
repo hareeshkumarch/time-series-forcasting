{
  "nbformat": 4,
  "nbformat_minor": 0,
  "metadata": {
    "colab": {
      "provenance": []
    },
    "kernelspec": {
      "name": "python3",
      "display_name": "Python 3"
    },
    "language_info": {
      "name": "python"
    }
  },
  "cells": [
    {
      "cell_type": "code",
      "execution_count": 1,
      "metadata": {
        "id": "r7wTsFrjUShM"
      },
      "outputs": [],
      "source": [
        "import numpy\n",
        "import matplotlib.pyplot as plt\n",
        "import pandas\n",
        "import math\n",
        "from keras.models import Sequential\n",
        "from keras.layers import Dense\n",
        "from keras.layers import LSTM\n",
        "from sklearn.preprocessing import MinMaxScaler\n",
        "from sklearn.metrics import mean_squared_error\n",
        "# fix random seed for reproducibility\n",
        "numpy.random.seed(7)"
      ]
    },
    {
      "cell_type": "code",
      "source": [
        "# load the dataset\n",
        "dataframe = pandas.read_csv('airline-passengers.csv', usecols=[1], engine='python')\n",
        "dataset = dataframe.values\n",
        "dataset = dataset.astype('float32')\n",
        "# normalize the dataset\n",
        "scaler = MinMaxScaler(feature_range=(0, 1))\n",
        "dataset = scaler.fit_transform(dataset)"
      ],
      "metadata": {
        "id": "2JYnf5MoU4na"
      },
      "execution_count": 2,
      "outputs": []
    },
    {
      "cell_type": "markdown",
      "source": [],
      "metadata": {
        "id": "4Czb1yDIU8u9"
      }
    },
    {
      "cell_type": "code",
      "source": [
        "\n",
        "train_size = int(len(dataset) * 0.67)\n",
        "test_size = len(dataset) - train_size\n",
        "train, test = dataset[0:train_size,:], dataset[train_size:len(dataset),:]\n",
        "print(len(train), len(test))"
      ],
      "metadata": {
        "colab": {
          "base_uri": "https://localhost:8080/"
        },
        "id": "OpcVU8boU881",
        "outputId": "f1691356-ee0a-46a9-c510-c1965011c7dd"
      },
      "execution_count": 3,
      "outputs": [
        {
          "output_type": "stream",
          "name": "stdout",
          "text": [
            "96 48\n"
          ]
        }
      ]
    },
    {
      "cell_type": "code",
      "source": [
        "def create_dataset(dataset, look_back=1):\n",
        "\tdataX, dataY = [], []\n",
        "\tfor i in range(len(dataset)-look_back-1):\n",
        "\t\ta = dataset[i:(i+look_back), 0]\n",
        "\t\tdataX.append(a)\n",
        "\t\tdataY.append(dataset[i + look_back, 0])\n",
        "\treturn numpy.array(dataX), numpy.array(dataY)\n",
        ""
      ],
      "metadata": {
        "id": "pR2hiD-fVCBG"
      },
      "execution_count": 4,
      "outputs": []
    },
    {
      "cell_type": "code",
      "source": [
        "look_back = 1\n",
        "trainX, trainY = create_dataset(train, look_back)\n",
        "testX, testY = create_dataset(test, look_back)\n",
        "# reshape input to be [samples, time steps, features]\n",
        "trainX = numpy.reshape(trainX, (trainX.shape[0], 1, trainX.shape[1]))\n",
        "testX = numpy.reshape(testX, (testX.shape[0], 1, testX.shape[1]))"
      ],
      "metadata": {
        "id": "dwAlRGGGVFlS"
      },
      "execution_count": 5,
      "outputs": []
    },
    {
      "cell_type": "code",
      "source": [
        "model = Sequential()\n",
        "model.add(LSTM(4, input_shape=(1, look_back)))\n",
        "model.add(Dense(1))\n",
        "model.compile(loss='mean_squared_error', optimizer='adam')\n",
        "model.fit(trainX, trainY, epochs=100, batch_size=1, verbose=2)"
      ],
      "metadata": {
        "colab": {
          "base_uri": "https://localhost:8080/"
        },
        "id": "xJdBL_TnVI3-",
        "outputId": "b99f5d25-7f33-4e99-ec37-d5c545369647"
      },
      "execution_count": 6,
      "outputs": [
        {
          "output_type": "stream",
          "name": "stdout",
          "text": [
            "Epoch 1/100\n",
            "94/94 - 2s - loss: 0.0399 - 2s/epoch - 23ms/step\n",
            "Epoch 2/100\n",
            "94/94 - 0s - loss: 0.0201 - 155ms/epoch - 2ms/step\n",
            "Epoch 3/100\n",
            "94/94 - 0s - loss: 0.0139 - 176ms/epoch - 2ms/step\n",
            "Epoch 4/100\n",
            "94/94 - 0s - loss: 0.0126 - 156ms/epoch - 2ms/step\n",
            "Epoch 5/100\n",
            "94/94 - 0s - loss: 0.0120 - 157ms/epoch - 2ms/step\n",
            "Epoch 6/100\n",
            "94/94 - 0s - loss: 0.0111 - 164ms/epoch - 2ms/step\n",
            "Epoch 7/100\n",
            "94/94 - 0s - loss: 0.0103 - 156ms/epoch - 2ms/step\n",
            "Epoch 8/100\n",
            "94/94 - 0s - loss: 0.0095 - 155ms/epoch - 2ms/step\n",
            "Epoch 9/100\n",
            "94/94 - 0s - loss: 0.0085 - 391ms/epoch - 4ms/step\n",
            "Epoch 10/100\n",
            "94/94 - 0s - loss: 0.0077 - 182ms/epoch - 2ms/step\n",
            "Epoch 11/100\n",
            "94/94 - 0s - loss: 0.0069 - 155ms/epoch - 2ms/step\n",
            "Epoch 12/100\n",
            "94/94 - 0s - loss: 0.0061 - 162ms/epoch - 2ms/step\n",
            "Epoch 13/100\n",
            "94/94 - 0s - loss: 0.0054 - 157ms/epoch - 2ms/step\n",
            "Epoch 14/100\n",
            "94/94 - 0s - loss: 0.0047 - 163ms/epoch - 2ms/step\n",
            "Epoch 15/100\n",
            "94/94 - 0s - loss: 0.0041 - 156ms/epoch - 2ms/step\n",
            "Epoch 16/100\n",
            "94/94 - 0s - loss: 0.0036 - 158ms/epoch - 2ms/step\n",
            "Epoch 17/100\n",
            "94/94 - 0s - loss: 0.0032 - 153ms/epoch - 2ms/step\n",
            "Epoch 18/100\n",
            "94/94 - 0s - loss: 0.0028 - 157ms/epoch - 2ms/step\n",
            "Epoch 19/100\n",
            "94/94 - 0s - loss: 0.0026 - 154ms/epoch - 2ms/step\n",
            "Epoch 20/100\n",
            "94/94 - 0s - loss: 0.0024 - 239ms/epoch - 3ms/step\n",
            "Epoch 21/100\n",
            "94/94 - 0s - loss: 0.0023 - 226ms/epoch - 2ms/step\n",
            "Epoch 22/100\n",
            "94/94 - 0s - loss: 0.0023 - 205ms/epoch - 2ms/step\n",
            "Epoch 23/100\n",
            "94/94 - 0s - loss: 0.0021 - 223ms/epoch - 2ms/step\n",
            "Epoch 24/100\n",
            "94/94 - 0s - loss: 0.0021 - 223ms/epoch - 2ms/step\n",
            "Epoch 25/100\n",
            "94/94 - 0s - loss: 0.0021 - 234ms/epoch - 2ms/step\n",
            "Epoch 26/100\n",
            "94/94 - 0s - loss: 0.0020 - 235ms/epoch - 2ms/step\n",
            "Epoch 27/100\n",
            "94/94 - 0s - loss: 0.0022 - 213ms/epoch - 2ms/step\n",
            "Epoch 28/100\n",
            "94/94 - 0s - loss: 0.0021 - 239ms/epoch - 3ms/step\n",
            "Epoch 29/100\n",
            "94/94 - 0s - loss: 0.0020 - 244ms/epoch - 3ms/step\n",
            "Epoch 30/100\n",
            "94/94 - 0s - loss: 0.0021 - 217ms/epoch - 2ms/step\n",
            "Epoch 31/100\n",
            "94/94 - 0s - loss: 0.0020 - 240ms/epoch - 3ms/step\n",
            "Epoch 32/100\n",
            "94/94 - 0s - loss: 0.0021 - 237ms/epoch - 3ms/step\n",
            "Epoch 33/100\n",
            "94/94 - 0s - loss: 0.0020 - 248ms/epoch - 3ms/step\n",
            "Epoch 34/100\n",
            "94/94 - 0s - loss: 0.0020 - 165ms/epoch - 2ms/step\n",
            "Epoch 35/100\n",
            "94/94 - 0s - loss: 0.0020 - 160ms/epoch - 2ms/step\n",
            "Epoch 36/100\n",
            "94/94 - 0s - loss: 0.0020 - 159ms/epoch - 2ms/step\n",
            "Epoch 37/100\n",
            "94/94 - 0s - loss: 0.0021 - 158ms/epoch - 2ms/step\n",
            "Epoch 38/100\n",
            "94/94 - 0s - loss: 0.0020 - 154ms/epoch - 2ms/step\n",
            "Epoch 39/100\n",
            "94/94 - 0s - loss: 0.0020 - 149ms/epoch - 2ms/step\n",
            "Epoch 40/100\n",
            "94/94 - 0s - loss: 0.0020 - 163ms/epoch - 2ms/step\n",
            "Epoch 41/100\n",
            "94/94 - 0s - loss: 0.0021 - 160ms/epoch - 2ms/step\n",
            "Epoch 42/100\n",
            "94/94 - 0s - loss: 0.0021 - 163ms/epoch - 2ms/step\n",
            "Epoch 43/100\n",
            "94/94 - 0s - loss: 0.0020 - 166ms/epoch - 2ms/step\n",
            "Epoch 44/100\n",
            "94/94 - 0s - loss: 0.0021 - 163ms/epoch - 2ms/step\n",
            "Epoch 45/100\n",
            "94/94 - 0s - loss: 0.0021 - 162ms/epoch - 2ms/step\n",
            "Epoch 46/100\n",
            "94/94 - 0s - loss: 0.0020 - 167ms/epoch - 2ms/step\n",
            "Epoch 47/100\n",
            "94/94 - 0s - loss: 0.0021 - 157ms/epoch - 2ms/step\n",
            "Epoch 48/100\n",
            "94/94 - 0s - loss: 0.0020 - 160ms/epoch - 2ms/step\n",
            "Epoch 49/100\n",
            "94/94 - 0s - loss: 0.0020 - 154ms/epoch - 2ms/step\n",
            "Epoch 50/100\n",
            "94/94 - 0s - loss: 0.0020 - 156ms/epoch - 2ms/step\n",
            "Epoch 51/100\n",
            "94/94 - 0s - loss: 0.0021 - 154ms/epoch - 2ms/step\n",
            "Epoch 52/100\n",
            "94/94 - 0s - loss: 0.0020 - 150ms/epoch - 2ms/step\n",
            "Epoch 53/100\n",
            "94/94 - 0s - loss: 0.0020 - 163ms/epoch - 2ms/step\n",
            "Epoch 54/100\n",
            "94/94 - 0s - loss: 0.0020 - 149ms/epoch - 2ms/step\n",
            "Epoch 55/100\n",
            "94/94 - 0s - loss: 0.0020 - 151ms/epoch - 2ms/step\n",
            "Epoch 56/100\n",
            "94/94 - 0s - loss: 0.0021 - 159ms/epoch - 2ms/step\n",
            "Epoch 57/100\n",
            "94/94 - 0s - loss: 0.0020 - 155ms/epoch - 2ms/step\n",
            "Epoch 58/100\n",
            "94/94 - 0s - loss: 0.0020 - 153ms/epoch - 2ms/step\n",
            "Epoch 59/100\n",
            "94/94 - 0s - loss: 0.0021 - 164ms/epoch - 2ms/step\n",
            "Epoch 60/100\n",
            "94/94 - 0s - loss: 0.0020 - 155ms/epoch - 2ms/step\n",
            "Epoch 61/100\n",
            "94/94 - 0s - loss: 0.0020 - 159ms/epoch - 2ms/step\n",
            "Epoch 62/100\n",
            "94/94 - 0s - loss: 0.0021 - 154ms/epoch - 2ms/step\n",
            "Epoch 63/100\n",
            "94/94 - 0s - loss: 0.0021 - 152ms/epoch - 2ms/step\n",
            "Epoch 64/100\n",
            "94/94 - 0s - loss: 0.0020 - 158ms/epoch - 2ms/step\n",
            "Epoch 65/100\n",
            "94/94 - 0s - loss: 0.0020 - 148ms/epoch - 2ms/step\n",
            "Epoch 66/100\n",
            "94/94 - 0s - loss: 0.0020 - 158ms/epoch - 2ms/step\n",
            "Epoch 67/100\n",
            "94/94 - 0s - loss: 0.0019 - 155ms/epoch - 2ms/step\n",
            "Epoch 68/100\n",
            "94/94 - 0s - loss: 0.0021 - 157ms/epoch - 2ms/step\n",
            "Epoch 69/100\n",
            "94/94 - 0s - loss: 0.0021 - 153ms/epoch - 2ms/step\n",
            "Epoch 70/100\n",
            "94/94 - 0s - loss: 0.0020 - 166ms/epoch - 2ms/step\n",
            "Epoch 71/100\n",
            "94/94 - 0s - loss: 0.0021 - 152ms/epoch - 2ms/step\n",
            "Epoch 72/100\n",
            "94/94 - 0s - loss: 0.0021 - 164ms/epoch - 2ms/step\n",
            "Epoch 73/100\n",
            "94/94 - 0s - loss: 0.0020 - 154ms/epoch - 2ms/step\n",
            "Epoch 74/100\n",
            "94/94 - 0s - loss: 0.0020 - 161ms/epoch - 2ms/step\n",
            "Epoch 75/100\n",
            "94/94 - 0s - loss: 0.0020 - 156ms/epoch - 2ms/step\n",
            "Epoch 76/100\n",
            "94/94 - 0s - loss: 0.0020 - 148ms/epoch - 2ms/step\n",
            "Epoch 77/100\n",
            "94/94 - 0s - loss: 0.0020 - 148ms/epoch - 2ms/step\n",
            "Epoch 78/100\n",
            "94/94 - 0s - loss: 0.0020 - 151ms/epoch - 2ms/step\n",
            "Epoch 79/100\n",
            "94/94 - 0s - loss: 0.0020 - 163ms/epoch - 2ms/step\n",
            "Epoch 80/100\n",
            "94/94 - 0s - loss: 0.0020 - 151ms/epoch - 2ms/step\n",
            "Epoch 81/100\n",
            "94/94 - 0s - loss: 0.0020 - 158ms/epoch - 2ms/step\n",
            "Epoch 82/100\n",
            "94/94 - 0s - loss: 0.0021 - 149ms/epoch - 2ms/step\n",
            "Epoch 83/100\n",
            "94/94 - 0s - loss: 0.0020 - 151ms/epoch - 2ms/step\n",
            "Epoch 84/100\n",
            "94/94 - 0s - loss: 0.0020 - 156ms/epoch - 2ms/step\n",
            "Epoch 85/100\n",
            "94/94 - 0s - loss: 0.0020 - 160ms/epoch - 2ms/step\n",
            "Epoch 86/100\n",
            "94/94 - 0s - loss: 0.0020 - 149ms/epoch - 2ms/step\n",
            "Epoch 87/100\n",
            "94/94 - 0s - loss: 0.0020 - 154ms/epoch - 2ms/step\n",
            "Epoch 88/100\n",
            "94/94 - 0s - loss: 0.0021 - 155ms/epoch - 2ms/step\n",
            "Epoch 89/100\n",
            "94/94 - 0s - loss: 0.0020 - 158ms/epoch - 2ms/step\n",
            "Epoch 90/100\n",
            "94/94 - 0s - loss: 0.0020 - 158ms/epoch - 2ms/step\n",
            "Epoch 91/100\n",
            "94/94 - 0s - loss: 0.0020 - 153ms/epoch - 2ms/step\n",
            "Epoch 92/100\n",
            "94/94 - 0s - loss: 0.0020 - 162ms/epoch - 2ms/step\n",
            "Epoch 93/100\n",
            "94/94 - 0s - loss: 0.0020 - 155ms/epoch - 2ms/step\n",
            "Epoch 94/100\n",
            "94/94 - 0s - loss: 0.0021 - 166ms/epoch - 2ms/step\n",
            "Epoch 95/100\n",
            "94/94 - 0s - loss: 0.0020 - 160ms/epoch - 2ms/step\n",
            "Epoch 96/100\n",
            "94/94 - 0s - loss: 0.0020 - 249ms/epoch - 3ms/step\n",
            "Epoch 97/100\n",
            "94/94 - 0s - loss: 0.0020 - 255ms/epoch - 3ms/step\n",
            "Epoch 98/100\n",
            "94/94 - 0s - loss: 0.0020 - 256ms/epoch - 3ms/step\n",
            "Epoch 99/100\n",
            "94/94 - 0s - loss: 0.0020 - 241ms/epoch - 3ms/step\n",
            "Epoch 100/100\n",
            "94/94 - 0s - loss: 0.0020 - 227ms/epoch - 2ms/step\n"
          ]
        },
        {
          "output_type": "execute_result",
          "data": {
            "text/plain": [
              "<keras.src.callbacks.History at 0x7ef1caaa73a0>"
            ]
          },
          "metadata": {},
          "execution_count": 6
        }
      ]
    },
    {
      "cell_type": "code",
      "source": [
        "trainPredict = model.predict(trainX)\n",
        "testPredict = model.predict(testX)\n",
        "# invert predictions\n",
        "trainPredict = scaler.inverse_transform(trainPredict)\n",
        "trainY = scaler.inverse_transform([trainY])\n",
        "testPredict = scaler.inverse_transform(testPredict)\n",
        "testY = scaler.inverse_transform([testY])\n",
        "# calculate root mean squared error\n",
        "trainScore = math.sqrt(mean_squared_error(trainY[0], trainPredict[:,0]))\n",
        "testScore = math.sqrt(mean_squared_error(testY[0], testPredict[:,0]))\n",
        "\n",
        "# shift train predictions for plotting\n",
        "trainPredictPlot = numpy.empty_like(dataset)\n",
        "trainPredictPlot[:, :] = numpy.nan\n",
        "trainPredictPlot[look_back:len(trainPredict)+look_back, :] = trainPredict\n",
        "# shift test predictions for plotting\n",
        "testPredictPlot = numpy.empty_like(dataset)\n",
        "testPredictPlot[:, :] = numpy.nan\n",
        "testPredictPlot[len(trainPredict)+(look_back*2)+1:len(dataset)-1, :] = testPredict\n",
        "# plot baseline and predictions\n",
        "plt.plot(scaler.inverse_transform(dataset))\n",
        "plt.plot(trainPredictPlot)\n",
        "plt.plot(testPredictPlot)\n",
        "plt.show()"
      ],
      "metadata": {
        "colab": {
          "base_uri": "https://localhost:8080/",
          "height": 465
        },
        "id": "pjB1PcsiVRPe",
        "outputId": "05963b45-1c65-42a1-9071-8d909ae5bf98"
      },
      "execution_count": 7,
      "outputs": [
        {
          "output_type": "stream",
          "name": "stdout",
          "text": [
            "3/3 [==============================] - 2s 6ms/step\n",
            "2/2 [==============================] - 0s 7ms/step\n"
          ]
        },
        {
          "output_type": "display_data",
          "data": {
            "text/plain": [
              "<Figure size 640x480 with 1 Axes>"
            ],
            "image/png": "[encoded data removed]"
          },
          "metadata": {}
        }
      ]
    }
  ]
}